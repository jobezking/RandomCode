{
 "cells": [
  {
   "cell_type": "code",
   "execution_count": 2,
   "id": "85c4e2b0-3c86-45f3-981a-64100a15f6c0",
   "metadata": {},
   "outputs": [],
   "source": [
    "import pandas as pd\n",
    "import numpy as np\n",
    "import matplotlib.pyplot as plt\n",
    "from sklearn.metrics import mean_squared_error, r2_score, mean_absolute_error\n",
    "from sklearn.model_selection import train_test_split\n",
    "from sklearn.ensemble import RandomForestClassifier\n",
    "from sklearn.linear_model import LinearRegression\n",
    "from sklearn.cluster import KMeans\n",
    "from sklearn.decomposition import PCA"
   ]
  },
  {
   "cell_type": "code",
   "execution_count": 5,
   "id": "df25e452-e67f-42cf-8aad-15435ba210e7",
   "metadata": {},
   "outputs": [],
   "source": [
    "pd.set_option('future.no_silent_downcasting', True)\n",
    "dtype_mapping = {\n",
    "    'integer_column': 'int32',\n",
    "    'float_column': 'float32',\n",
    "    'category_column': 'category'\n",
    "}"
   ]
  },
  {
   "cell_type": "code",
   "execution_count": null,
   "id": "2a41b0f1-f9e1-47b3-9461-389ea49c8682",
   "metadata": {},
   "outputs": [],
   "source": [
    "modeldata = pd.read_csv(\"/mnt/pnydata/big_csv/kaggle/hospital_prices.csv\",dtype=dtype_mapping) #load data"
   ]
  },
  {
   "cell_type": "code",
   "execution_count": 3,
   "id": "700d7e32-2a53-4942-99c6-54b4b17f7025",
   "metadata": {},
   "outputs": [
    {
     "name": "stdout",
     "output_type": "stream",
     "text": [
      "   {F887F88E-7D15-4415-804E-52EAC2F10958}  70000  1995-07-07 00:00 MK15 9HP  \\\n",
      "0  {40FD4DF2-5362-407C-92BC-566E2CCE89E9}  44500  1995-02-03 00:00  SR6 0AQ   \n",
      "1  {7A99F89E-7D81-4E45-ABD5-566E49A045EA}  56500  1995-01-13 00:00  CO6 1SQ   \n",
      "2  {28225260-E61C-4E57-8B56-566E5285B1C1}  58000  1995-07-28 00:00  B90 4TG   \n",
      "3  {444D34D7-9BA6-43A7-B695-4F48980E0176}  51000  1995-06-28 00:00  DY5 1SA   \n",
      "4  {AE76CAF1-F8CC-43F9-8F63-4F48A2857D41}  17000  1995-03-10 00:00  S65 1QJ   \n",
      "\n",
      "   D  N  F  31 Unnamed: 8     ALDRICH DRIVE         WILLEN  MILTON KEYNES  \\\n",
      "0  T  N  F  50        NaN       HOWICK PARK     SUNDERLAND     SUNDERLAND   \n",
      "1  T  N  F  19        NaN  BRICK KILN CLOSE     COGGESHALL     COLCHESTER   \n",
      "2  T  N  F  37        NaN  RAINSBROOK DRIVE        SHIRLEY       SOLIHULL   \n",
      "3  S  N  F  59        NaN        MERRY HILL  BRIERLEY HILL  BRIERLEY HILL   \n",
      "4  T  N  L  22        NaN     DENMAN STREET      ROTHERHAM      ROTHERHAM   \n",
      "\n",
      "  MILTON KEYNES.1  MILTON KEYNES.2  A A.1  \n",
      "0      SUNDERLAND    TYNE AND WEAR  A   A  \n",
      "1       BRAINTREE            ESSEX  A   A  \n",
      "2        SOLIHULL    WEST MIDLANDS  A   A  \n",
      "3          DUDLEY    WEST MIDLANDS  A   A  \n",
      "4       ROTHERHAM  SOUTH YORKSHIRE  A   A  \n",
      "          {F887F88E-7D15-4415-804E-52EAC2F10958}   70000  1995-07-07 00:00  \\\n",
      "28276222  {F3B6C198-17C3-6E40-E053-6C04A8C0B3B4}  490000  2023-01-13 00:00   \n",
      "28276223  {F3B6C198-17C9-6E40-E053-6C04A8C0B3B4}  365000  2023-01-10 00:00   \n",
      "28276224  {F3B6C198-17D8-6E40-E053-6C04A8C0B3B4}  730000  2023-01-05 00:00   \n",
      "28276225  {F3B6C198-1807-6E40-E053-6C04A8C0B3B4}  379000  2023-01-06 00:00   \n",
      "28276226  {F3B6C198-182F-6E40-E053-6C04A8C0B3B4}  450000  2023-01-05 00:00   \n",
      "\n",
      "          MK15 9HP  D  N  F                  31 Unnamed: 8  \\\n",
      "28276222   RM1 4SR  T  N  F                  12        NaN   \n",
      "28276223   SS2 4UA  F  N  L  CENTENARY PLACE, 1    FLAT 22   \n",
      "28276224  CO13 0EY  S  N  F           HIGH VIEW        NaN   \n",
      "28276225  CO15 5NA  D  N  F                  12        NaN   \n",
      "28276226   CO7 7PZ  D  N  F                  21        NaN   \n",
      "\n",
      "                  ALDRICH DRIVE          WILLEN    MILTON KEYNES  \\\n",
      "28276222           HEATHER GLEN             NaN          ROMFORD   \n",
      "28276223  SOUTHCHURCH BOULEVARD             NaN  SOUTHEND-ON-SEA   \n",
      "28276224    LITTLE CLACTON ROAD   GREAT HOLLAND   FRINTON-ON-SEA   \n",
      "28276225           DULWICH ROAD  HOLLAND-ON-SEA   CLACTON-ON-SEA   \n",
      "28276226          INGRAMS PIECE        ARDLEIGH       COLCHESTER   \n",
      "\n",
      "          MILTON KEYNES.1  MILTON KEYNES.2  A A.1  \n",
      "28276222         HAVERING   GREATER LONDON  A   A  \n",
      "28276223  SOUTHEND-ON-SEA  SOUTHEND-ON-SEA  A   A  \n",
      "28276224         TENDRING            ESSEX  A   A  \n",
      "28276225         TENDRING            ESSEX  A   A  \n",
      "28276226         TENDRING            ESSEX  A   A  \n"
     ]
    }
   ],
   "source": [
    "print(modeldata.head())\n",
    "print(modeldata.tail())"
   ]
  },
  {
   "cell_type": "code",
   "execution_count": 4,
   "id": "9b649cc7-0328-48d9-9429-d726eef507f5",
   "metadata": {},
   "outputs": [
    {
     "name": "stdout",
     "output_type": "stream",
     "text": [
      "Dataset contains 28276227 rows and 16 columns.\n",
      "\n"
     ]
    },
    {
     "data": {
      "text/html": [
       "<div>\n",
       "<style scoped>\n",
       "    .dataframe tbody tr th:only-of-type {\n",
       "        vertical-align: middle;\n",
       "    }\n",
       "\n",
       "    .dataframe tbody tr th {\n",
       "        vertical-align: top;\n",
       "    }\n",
       "\n",
       "    .dataframe thead th {\n",
       "        text-align: right;\n",
       "    }\n",
       "</style>\n",
       "<table border=\"1\" class=\"dataframe\">\n",
       "  <thead>\n",
       "    <tr style=\"text-align: right;\">\n",
       "      <th></th>\n",
       "      <th>70000</th>\n",
       "    </tr>\n",
       "  </thead>\n",
       "  <tbody>\n",
       "    <tr>\n",
       "      <th>count</th>\n",
       "      <td>2.827623e+07</td>\n",
       "    </tr>\n",
       "    <tr>\n",
       "      <th>mean</th>\n",
       "      <td>2.181305e+05</td>\n",
       "    </tr>\n",
       "    <tr>\n",
       "      <th>std</th>\n",
       "      <td>8.688525e+05</td>\n",
       "    </tr>\n",
       "    <tr>\n",
       "      <th>min</th>\n",
       "      <td>1.000000e+00</td>\n",
       "    </tr>\n",
       "    <tr>\n",
       "      <th>25%</th>\n",
       "      <td>8.495000e+04</td>\n",
       "    </tr>\n",
       "    <tr>\n",
       "      <th>50%</th>\n",
       "      <td>1.499500e+05</td>\n",
       "    </tr>\n",
       "    <tr>\n",
       "      <th>75%</th>\n",
       "      <td>2.475000e+05</td>\n",
       "    </tr>\n",
       "    <tr>\n",
       "      <th>max</th>\n",
       "      <td>5.943000e+08</td>\n",
       "    </tr>\n",
       "  </tbody>\n",
       "</table>\n",
       "</div>"
      ],
      "text/plain": [
       "              70000\n",
       "count  2.827623e+07\n",
       "mean   2.181305e+05\n",
       "std    8.688525e+05\n",
       "min    1.000000e+00\n",
       "25%    8.495000e+04\n",
       "50%    1.499500e+05\n",
       "75%    2.475000e+05\n",
       "max    5.943000e+08"
      ]
     },
     "execution_count": 4,
     "metadata": {},
     "output_type": "execute_result"
    }
   ],
   "source": [
    "print(f\"Dataset contains {modeldata.shape[0]} rows and {modeldata.shape[1]} columns.\\n\")\n",
    "modeldata.describe()"
   ]
  },
  {
   "cell_type": "code",
   "execution_count": 5,
   "id": "e7429bb9-fb7d-4405-9777-70f8a2205c78",
   "metadata": {},
   "outputs": [
    {
     "name": "stdout",
     "output_type": "stream",
     "text": [
      "<class 'pandas.core.frame.DataFrame'>\n",
      "RangeIndex: 28276227 entries, 0 to 28276226\n",
      "Data columns (total 16 columns):\n",
      " #   Column                                  Dtype \n",
      "---  ------                                  ----- \n",
      " 0   {F887F88E-7D15-4415-804E-52EAC2F10958}  object\n",
      " 1   70000                                   int64 \n",
      " 2   1995-07-07 00:00                        object\n",
      " 3   MK15 9HP                                object\n",
      " 4   D                                       object\n",
      " 5   N                                       object\n",
      " 6   F                                       object\n",
      " 7   31                                      object\n",
      " 8   Unnamed: 8                              object\n",
      " 9   ALDRICH DRIVE                           object\n",
      " 10  WILLEN                                  object\n",
      " 11  MILTON KEYNES                           object\n",
      " 12  MILTON KEYNES.1                         object\n",
      " 13  MILTON KEYNES.2                         object\n",
      " 14  A                                       object\n",
      " 15  A.1                                     object\n",
      "dtypes: int64(1), object(15)\n",
      "memory usage: 3.4+ GB\n"
     ]
    }
   ],
   "source": [
    "modeldata.info()"
   ]
  },
  {
   "cell_type": "code",
   "execution_count": null,
   "id": "44b45df5-893b-4976-9a91-b6631cff0f3b",
   "metadata": {},
   "outputs": [],
   "source": []
  }
 ],
 "metadata": {
  "kernelspec": {
   "display_name": "Python 3 (ipykernel)",
   "language": "python",
   "name": "python3"
  },
  "language_info": {
   "codemirror_mode": {
    "name": "ipython",
    "version": 3
   },
   "file_extension": ".py",
   "mimetype": "text/x-python",
   "name": "python",
   "nbconvert_exporter": "python",
   "pygments_lexer": "ipython3",
   "version": "3.12.7"
  }
 },
 "nbformat": 4,
 "nbformat_minor": 5
}
